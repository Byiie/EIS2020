{
 "cells": [
  {
   "cell_type": "code",
   "execution_count": null,
   "metadata": {},
   "outputs": [],
   "source": [
    "import cv2\n",
    "import numpy as np\n",
    "import pyautogui as pg\n",
    "\n",
    "pic=pg.screenshot()\n",
    "img = cv2.cvtColor(np.array(pic),cv2.COLOR_RGB2BGR)\n",
    "template1 = cv2.imread('zuoshang.PNG')\n",
    "template2 = cv2.imread('youxia.PNG')\n",
    "template3 = cv2.imread('duorenyouxi.PNG')\n",
    "template4 = cv2.imread('server.PNG')\n",
    "(h1, w1 )= template1.shape[:2]\n",
    "(h2, w2 )= template2.shape[:2]\n",
    "\n",
    "def seekpic(img,template):\n",
    "    threshold = 0.9\n",
    "    res = cv2.matchTemplate(img,template,cv2.TM_CCOEFF_NORMED)\n",
    "    loc = np.where( res >= threshold)\n",
    "    for pt in zip(*loc[::-1]):\n",
    "        x = pt[0]\n",
    "        y = pt[1]\n",
    "    return x,y\n",
    "\n",
    "x1,y1 =seekpic(img,template1)\n",
    "x2,y2 =seekpic(img,template2)\n",
    "\n",
    "i = 0\n",
    "while True:\n",
    "    x = x1-5\n",
    "    y = y1-5\n",
    "    pic2= pg.screenshot(\"my_screenshot.png\",region=(x,y, x2-x1+h2+5, y2-y1+w2+10))\n",
    "    image = cv2.cvtColor(np.array(pic2), cv2.COLOR_RGB2BGR)\n",
    "    \n",
    "    cv2.imshow(\"screenshot\",image)\n",
    "    x3,y3 =seekpic(img,template3)\n",
    "    \n",
    "    key = cv2.waitKey(100) & 0xFF\n",
    "    i += 1\n",
    "    \n",
    "    if i == 3: \n",
    "        pg.click(x3, y3) #点击多人游戏\n",
    "    \n",
    "    if i ==6:\n",
    "        x4,y4 =seekpic(image,template4)\n",
    "        pg.doubleClick(x4+x, y4+y)\n",
    "    # 按'q'健退出循环\n",
    "    if key == ord('q'):\n",
    "        break\n",
    "cv2.destroyAllWindows()"
   ]
  }
 ],
 "metadata": {
  "kernelspec": {
   "display_name": "Python 3",
   "language": "python",
   "name": "python3"
  },
  "language_info": {
   "codemirror_mode": {
    "name": "ipython",
    "version": 3
   },
   "file_extension": ".py",
   "mimetype": "text/x-python",
   "name": "python",
   "nbconvert_exporter": "python",
   "pygments_lexer": "ipython3",
   "version": "3.7.6"
  }
 },
 "nbformat": 4,
 "nbformat_minor": 4
}
